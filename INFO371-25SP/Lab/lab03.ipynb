{
 "cells": [
  {
   "cell_type": "code",
   "execution_count": 2,
   "id": "a72a183a",
   "metadata": {},
   "outputs": [],
   "source": [
    "import pandas as pd\n",
    "import numpy as np\n",
    "from sklearn.model_selection import train_test_split"
   ]
  },
  {
   "cell_type": "markdown",
   "id": "95ffe934",
   "metadata": {},
   "source": [
    "## 1"
   ]
  },
  {
   "cell_type": "markdown",
   "id": "595a13e2",
   "metadata": {},
   "source": [
    "### 1.1"
   ]
  },
  {
   "cell_type": "code",
   "execution_count": 3,
   "id": "8101cfe5",
   "metadata": {},
   "outputs": [],
   "source": [
    "heart = pd.read_csv(\"../../data/heart.csv.bz2\")"
   ]
  },
  {
   "cell_type": "code",
   "execution_count": 4,
   "id": "15b0296d",
   "metadata": {},
   "outputs": [
    {
     "data": {
      "application/vnd.microsoft.datawrangler.viewer.v0+json": {
       "columns": [
        {
         "name": "index",
         "rawType": "int64",
         "type": "integer"
        },
        {
         "name": "age",
         "rawType": "int64",
         "type": "integer"
        },
        {
         "name": "sex",
         "rawType": "int64",
         "type": "integer"
        },
        {
         "name": "cp",
         "rawType": "int64",
         "type": "integer"
        },
        {
         "name": "trtbps",
         "rawType": "int64",
         "type": "integer"
        },
        {
         "name": "chol",
         "rawType": "int64",
         "type": "integer"
        },
        {
         "name": "fbs",
         "rawType": "int64",
         "type": "integer"
        },
        {
         "name": "restecg",
         "rawType": "int64",
         "type": "integer"
        },
        {
         "name": "thalachh",
         "rawType": "int64",
         "type": "integer"
        },
        {
         "name": "exng",
         "rawType": "int64",
         "type": "integer"
        },
        {
         "name": "oldpeak",
         "rawType": "float64",
         "type": "float"
        },
        {
         "name": "slp",
         "rawType": "int64",
         "type": "integer"
        },
        {
         "name": "caa",
         "rawType": "int64",
         "type": "integer"
        },
        {
         "name": "thall",
         "rawType": "int64",
         "type": "integer"
        },
        {
         "name": "output",
         "rawType": "int64",
         "type": "integer"
        }
       ],
       "conversionMethod": "pd.DataFrame",
       "ref": "0bddf6c9-e931-4f31-a45b-362238126074",
       "rows": [
        [
         "0",
         "63",
         "1",
         "3",
         "145",
         "233",
         "1",
         "0",
         "150",
         "0",
         "2.3",
         "0",
         "0",
         "1",
         "1"
        ],
        [
         "1",
         "37",
         "1",
         "2",
         "130",
         "250",
         "0",
         "1",
         "187",
         "0",
         "3.5",
         "0",
         "0",
         "2",
         "1"
        ],
        [
         "2",
         "41",
         "0",
         "1",
         "130",
         "204",
         "0",
         "0",
         "172",
         "0",
         "1.4",
         "2",
         "0",
         "2",
         "1"
        ],
        [
         "3",
         "56",
         "1",
         "1",
         "120",
         "236",
         "0",
         "1",
         "178",
         "0",
         "0.8",
         "2",
         "0",
         "2",
         "1"
        ],
        [
         "4",
         "57",
         "0",
         "0",
         "120",
         "354",
         "0",
         "1",
         "163",
         "1",
         "0.6",
         "2",
         "0",
         "2",
         "1"
        ]
       ],
       "shape": {
        "columns": 14,
        "rows": 5
       }
      },
      "text/html": [
       "<div>\n",
       "<style scoped>\n",
       "    .dataframe tbody tr th:only-of-type {\n",
       "        vertical-align: middle;\n",
       "    }\n",
       "\n",
       "    .dataframe tbody tr th {\n",
       "        vertical-align: top;\n",
       "    }\n",
       "\n",
       "    .dataframe thead th {\n",
       "        text-align: right;\n",
       "    }\n",
       "</style>\n",
       "<table border=\"1\" class=\"dataframe\">\n",
       "  <thead>\n",
       "    <tr style=\"text-align: right;\">\n",
       "      <th></th>\n",
       "      <th>age</th>\n",
       "      <th>sex</th>\n",
       "      <th>cp</th>\n",
       "      <th>trtbps</th>\n",
       "      <th>chol</th>\n",
       "      <th>fbs</th>\n",
       "      <th>restecg</th>\n",
       "      <th>thalachh</th>\n",
       "      <th>exng</th>\n",
       "      <th>oldpeak</th>\n",
       "      <th>slp</th>\n",
       "      <th>caa</th>\n",
       "      <th>thall</th>\n",
       "      <th>output</th>\n",
       "    </tr>\n",
       "  </thead>\n",
       "  <tbody>\n",
       "    <tr>\n",
       "      <th>0</th>\n",
       "      <td>63</td>\n",
       "      <td>1</td>\n",
       "      <td>3</td>\n",
       "      <td>145</td>\n",
       "      <td>233</td>\n",
       "      <td>1</td>\n",
       "      <td>0</td>\n",
       "      <td>150</td>\n",
       "      <td>0</td>\n",
       "      <td>2.3</td>\n",
       "      <td>0</td>\n",
       "      <td>0</td>\n",
       "      <td>1</td>\n",
       "      <td>1</td>\n",
       "    </tr>\n",
       "    <tr>\n",
       "      <th>1</th>\n",
       "      <td>37</td>\n",
       "      <td>1</td>\n",
       "      <td>2</td>\n",
       "      <td>130</td>\n",
       "      <td>250</td>\n",
       "      <td>0</td>\n",
       "      <td>1</td>\n",
       "      <td>187</td>\n",
       "      <td>0</td>\n",
       "      <td>3.5</td>\n",
       "      <td>0</td>\n",
       "      <td>0</td>\n",
       "      <td>2</td>\n",
       "      <td>1</td>\n",
       "    </tr>\n",
       "    <tr>\n",
       "      <th>2</th>\n",
       "      <td>41</td>\n",
       "      <td>0</td>\n",
       "      <td>1</td>\n",
       "      <td>130</td>\n",
       "      <td>204</td>\n",
       "      <td>0</td>\n",
       "      <td>0</td>\n",
       "      <td>172</td>\n",
       "      <td>0</td>\n",
       "      <td>1.4</td>\n",
       "      <td>2</td>\n",
       "      <td>0</td>\n",
       "      <td>2</td>\n",
       "      <td>1</td>\n",
       "    </tr>\n",
       "    <tr>\n",
       "      <th>3</th>\n",
       "      <td>56</td>\n",
       "      <td>1</td>\n",
       "      <td>1</td>\n",
       "      <td>120</td>\n",
       "      <td>236</td>\n",
       "      <td>0</td>\n",
       "      <td>1</td>\n",
       "      <td>178</td>\n",
       "      <td>0</td>\n",
       "      <td>0.8</td>\n",
       "      <td>2</td>\n",
       "      <td>0</td>\n",
       "      <td>2</td>\n",
       "      <td>1</td>\n",
       "    </tr>\n",
       "    <tr>\n",
       "      <th>4</th>\n",
       "      <td>57</td>\n",
       "      <td>0</td>\n",
       "      <td>0</td>\n",
       "      <td>120</td>\n",
       "      <td>354</td>\n",
       "      <td>0</td>\n",
       "      <td>1</td>\n",
       "      <td>163</td>\n",
       "      <td>1</td>\n",
       "      <td>0.6</td>\n",
       "      <td>2</td>\n",
       "      <td>0</td>\n",
       "      <td>2</td>\n",
       "      <td>1</td>\n",
       "    </tr>\n",
       "  </tbody>\n",
       "</table>\n",
       "</div>"
      ],
      "text/plain": [
       "   age  sex  cp  trtbps  chol  fbs  restecg  thalachh  exng  oldpeak  slp  \\\n",
       "0   63    1   3     145   233    1        0       150     0      2.3    0   \n",
       "1   37    1   2     130   250    0        1       187     0      3.5    0   \n",
       "2   41    0   1     130   204    0        0       172     0      1.4    2   \n",
       "3   56    1   1     120   236    0        1       178     0      0.8    2   \n",
       "4   57    0   0     120   354    0        1       163     1      0.6    2   \n",
       "\n",
       "   caa  thall  output  \n",
       "0    0      1       1  \n",
       "1    0      2       1  \n",
       "2    0      2       1  \n",
       "3    0      2       1  \n",
       "4    0      2       1  "
      ]
     },
     "execution_count": 4,
     "metadata": {},
     "output_type": "execute_result"
    }
   ],
   "source": [
    "heart.head(5)"
   ]
  },
  {
   "cell_type": "markdown",
   "id": "8afe9d73",
   "metadata": {},
   "source": [
    "It generally looks good."
   ]
  },
  {
   "cell_type": "markdown",
   "id": "71441c32",
   "metadata": {},
   "source": [
    "### 1.2"
   ]
  },
  {
   "cell_type": "code",
   "execution_count": 5,
   "id": "81442ba4",
   "metadata": {},
   "outputs": [],
   "source": [
    "y = heart[\"output\"]\n",
    "X = heart.drop(\"output\", axis = 1)"
   ]
  },
  {
   "cell_type": "markdown",
   "id": "6ab6c920",
   "metadata": {},
   "source": [
    "### 1.3"
   ]
  },
  {
   "cell_type": "code",
   "execution_count": 6,
   "id": "bcd020c8",
   "metadata": {},
   "outputs": [
    {
     "data": {
      "text/plain": [
       "0.5445544554455446"
      ]
     },
     "execution_count": 6,
     "metadata": {},
     "output_type": "execute_result"
    }
   ],
   "source": [
    "y.value_counts().max() / len(y)"
   ]
  },
  {
   "cell_type": "markdown",
   "id": "38ab3391",
   "metadata": {},
   "source": [
    "The acc of naive model is 0.545"
   ]
  },
  {
   "cell_type": "markdown",
   "id": "85e514fd",
   "metadata": {},
   "source": [
    "### 1.4"
   ]
  },
  {
   "cell_type": "code",
   "execution_count": 7,
   "id": "3d7d273c",
   "metadata": {},
   "outputs": [],
   "source": [
    "X = pd.get_dummies(X, columns=[\"cp\", \"restecg\", \"sex\", \"fbs\", \"exng\", \"slp\", \"thall\"], drop_first=True)"
   ]
  },
  {
   "cell_type": "markdown",
   "id": "e69d9bbf",
   "metadata": {},
   "source": [
    "### 1.5"
   ]
  },
  {
   "cell_type": "code",
   "execution_count": 8,
   "id": "df0c30b5",
   "metadata": {},
   "outputs": [
    {
     "data": {
      "text/plain": [
       "((227, 19), (76, 19))"
      ]
     },
     "execution_count": 8,
     "metadata": {},
     "output_type": "execute_result"
    }
   ],
   "source": [
    "Xt, Xv, yt, yv = train_test_split(X, y, random_state=371)\n",
    "Xt.shape, Xv.shape"
   ]
  },
  {
   "cell_type": "markdown",
   "id": "8fcd7e5b",
   "metadata": {},
   "source": [
    "## 2"
   ]
  },
  {
   "cell_type": "code",
   "execution_count": null,
   "id": "55d6e4a5",
   "metadata": {},
   "outputs": [],
   "source": [
    "from sklearn.linear_model import LogisticRegression\n",
    "from sklearn.neighbors import KNeighborsClassifier\n",
    "from sklearn.tree import DecisionTreeClassifier\n",
    "from sklearn.metrics import accuracy_score"
   ]
  },
  {
   "cell_type": "markdown",
   "id": "7f6784ff",
   "metadata": {},
   "source": [
    "### 2.1"
   ]
  },
  {
   "cell_type": "code",
   "execution_count": 10,
   "id": "abcfe458",
   "metadata": {},
   "outputs": [
    {
     "name": "stdout",
     "output_type": "stream",
     "text": [
      "0.8026315789473685\n"
     ]
    }
   ],
   "source": [
    "log_m = LogisticRegression(max_iter=1000)\n",
    "log_m.fit(Xt, yt)\n",
    "log_acc = log_m.score(Xv, yv)\n",
    "print(log_acc)"
   ]
  },
  {
   "cell_type": "markdown",
   "id": "8cd43d58",
   "metadata": {},
   "source": [
    "### 2.2"
   ]
  },
  {
   "cell_type": "code",
   "execution_count": 11,
   "id": "25c85702",
   "metadata": {},
   "outputs": [
    {
     "name": "stdout",
     "output_type": "stream",
     "text": [
      "0.7236842105263158\n"
     ]
    }
   ],
   "source": [
    "knn_m = KNeighborsClassifier(n_neighbors=5)\n",
    "knn_m.fit(Xt, yt)\n",
    "knn_acc = knn_m.score(Xv, yv)\n",
    "print(knn_acc)"
   ]
  },
  {
   "cell_type": "markdown",
   "id": "bb48f654",
   "metadata": {},
   "source": [
    "### 2.3"
   ]
  },
  {
   "cell_type": "code",
   "execution_count": 12,
   "id": "2c092984",
   "metadata": {},
   "outputs": [
    {
     "name": "stdout",
     "output_type": "stream",
     "text": [
      "0.7631578947368421\n"
     ]
    }
   ],
   "source": [
    "tree_m = DecisionTreeClassifier(max_depth=4)\n",
    "tree_m.fit(Xt, yt)\n",
    "tree_acc = tree_m.score(Xv, yv)\n",
    "print(tree_acc)"
   ]
  },
  {
   "cell_type": "markdown",
   "id": "ab3d4f09",
   "metadata": {},
   "source": [
    "## 3"
   ]
  },
  {
   "cell_type": "code",
   "execution_count": 13,
   "id": "2fabad54",
   "metadata": {},
   "outputs": [],
   "source": [
    "def fit_ensemble(Xt, yt):\n",
    "    log_m = LogisticRegression(max_iter=1000)\n",
    "    knn_m = KNeighborsClassifier(n_neighbors=5)\n",
    "    tree_m = DecisionTreeClassifier(max_depth=4)\n",
    "\n",
    "    log_m.fit(Xt, yt)\n",
    "    knn_m.fit(Xt, yt)\n",
    "    tree_m.fit(Xt, yt)  \n",
    "\n",
    "    return (log_m, knn_m, tree_m)"
   ]
  },
  {
   "cell_type": "code",
   "execution_count": 14,
   "id": "3e07921a",
   "metadata": {},
   "outputs": [],
   "source": [
    "def score_ensemble(models, Xv, yv):\n",
    "    m1, m2, m3 = models\n",
    "    yhat1 = m1.predict(Xv)\n",
    "    yhat2 = m2.predict(Xv)\n",
    "    yhat3 = m3.predict(Xv)\n",
    "\n",
    "    yhat = (yhat1 + yhat2 + yhat3) > 1.5\n",
    "\n",
    "    acc = np.mean(yhat == yv)\n",
    "    return acc"
   ]
  },
  {
   "cell_type": "code",
   "execution_count": null,
   "id": "b0c4ec5f",
   "metadata": {},
   "outputs": [],
   "source": [
    "ms = fit_ensemble(Xt, yt)\n",
    "score_ensemble(ms, Xv, yv)"
   ]
  }
 ],
 "metadata": {
  "kernelspec": {
   "display_name": "INFO371",
   "language": "python",
   "name": "python3"
  },
  "language_info": {
   "codemirror_mode": {
    "name": "ipython",
    "version": 3
   },
   "file_extension": ".py",
   "mimetype": "text/x-python",
   "name": "python",
   "nbconvert_exporter": "python",
   "pygments_lexer": "ipython3",
   "version": "3.11.9"
  }
 },
 "nbformat": 4,
 "nbformat_minor": 5
}
