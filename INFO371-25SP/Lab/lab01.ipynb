{
 "cells": [
  {
   "cell_type": "code",
   "execution_count": 139,
   "id": "8d1bc03d",
   "metadata": {},
   "outputs": [],
   "source": [
    "import pandas as pd\n",
    "import numpy as np"
   ]
  },
  {
   "cell_type": "markdown",
   "id": "14968b14",
   "metadata": {},
   "source": [
    "### 1.1"
   ]
  },
  {
   "cell_type": "code",
   "execution_count": 140,
   "id": "9ef68d79",
   "metadata": {},
   "outputs": [],
   "source": [
    "sc = pd.read_csv(\"./covid-scandinavia.csv.bz2\")"
   ]
  },
  {
   "cell_type": "markdown",
   "id": "b98e1fb5",
   "metadata": {},
   "source": [
    "I found the columns combined into on single column."
   ]
  },
  {
   "cell_type": "markdown",
   "id": "241f03a7",
   "metadata": {},
   "source": [
    "### 1.2"
   ]
  },
  {
   "cell_type": "code",
   "execution_count": 141,
   "id": "d7d8ac87",
   "metadata": {},
   "outputs": [
    {
     "data": {
      "text/plain": [
       "(6528, 1)"
      ]
     },
     "execution_count": 141,
     "metadata": {},
     "output_type": "execute_result"
    }
   ],
   "source": [
    "sc.shape"
   ]
  },
  {
   "cell_type": "markdown",
   "id": "25164ab5",
   "metadata": {},
   "source": [
    "### 1.3"
   ]
  },
  {
   "cell_type": "code",
   "execution_count": 142,
   "id": "6b948e0f",
   "metadata": {},
   "outputs": [],
   "source": [
    "sc = pd.read_csv(\"./covid-scandinavia.csv.bz2\", sep = \"\\t\")"
   ]
  },
  {
   "cell_type": "markdown",
   "id": "7caf91a2",
   "metadata": {},
   "source": [
    "### 1.4"
   ]
  },
  {
   "cell_type": "code",
   "execution_count": 143,
   "id": "c497339c",
   "metadata": {},
   "outputs": [
    {
     "data": {
      "text/plain": [
       "(6528, 11)"
      ]
     },
     "execution_count": 143,
     "metadata": {},
     "output_type": "execute_result"
    }
   ],
   "source": [
    "sc.shape"
   ]
  },
  {
   "cell_type": "markdown",
   "id": "1740aab6",
   "metadata": {},
   "source": [
    "It has 6528 rows and 11 columns"
   ]
  },
  {
   "cell_type": "markdown",
   "id": "ba1176ad",
   "metadata": {},
   "source": [
    "### 2.1"
   ]
  },
  {
   "cell_type": "code",
   "execution_count": 144,
   "id": "e47342cd",
   "metadata": {},
   "outputs": [
    {
     "data": {
      "text/plain": [
       "code2          object\n",
       "country        object\n",
       "state         float64\n",
       "date           object\n",
       "type           object\n",
       "count           int64\n",
       "lockdown       object\n",
       "population      int64\n",
       "countPC       float64\n",
       "growth        float64\n",
       "growthPC      float64\n",
       "dtype: object"
      ]
     },
     "execution_count": 144,
     "metadata": {},
     "output_type": "execute_result"
    }
   ],
   "source": [
    "sc.dtypes"
   ]
  },
  {
   "cell_type": "markdown",
   "id": "65c6058e",
   "metadata": {},
   "source": [
    "### 2.2"
   ]
  },
  {
   "cell_type": "code",
   "execution_count": 145,
   "id": "4585460e",
   "metadata": {},
   "outputs": [
    {
     "name": "stdout",
     "output_type": "stream",
     "text": [
      "(6528, 5)\n"
     ]
    },
    {
     "data": {
      "text/html": [
       "<div>\n",
       "<style scoped>\n",
       "    .dataframe tbody tr th:only-of-type {\n",
       "        vertical-align: middle;\n",
       "    }\n",
       "\n",
       "    .dataframe tbody tr th {\n",
       "        vertical-align: top;\n",
       "    }\n",
       "\n",
       "    .dataframe thead th {\n",
       "        text-align: right;\n",
       "    }\n",
       "</style>\n",
       "<table border=\"1\" class=\"dataframe\">\n",
       "  <thead>\n",
       "    <tr style=\"text-align: right;\">\n",
       "      <th></th>\n",
       "      <th>country</th>\n",
       "      <th>date</th>\n",
       "      <th>type</th>\n",
       "      <th>count</th>\n",
       "      <th>population</th>\n",
       "    </tr>\n",
       "  </thead>\n",
       "  <tbody>\n",
       "    <tr>\n",
       "      <th>0</th>\n",
       "      <td>Denmark</td>\n",
       "      <td>2020-01-22</td>\n",
       "      <td>Confirmed</td>\n",
       "      <td>0</td>\n",
       "      <td>5837213</td>\n",
       "    </tr>\n",
       "    <tr>\n",
       "      <th>1</th>\n",
       "      <td>Denmark</td>\n",
       "      <td>2020-01-22</td>\n",
       "      <td>Deaths</td>\n",
       "      <td>0</td>\n",
       "      <td>5837213</td>\n",
       "    </tr>\n",
       "    <tr>\n",
       "      <th>2</th>\n",
       "      <td>Denmark</td>\n",
       "      <td>2020-01-23</td>\n",
       "      <td>Confirmed</td>\n",
       "      <td>0</td>\n",
       "      <td>5837213</td>\n",
       "    </tr>\n",
       "    <tr>\n",
       "      <th>3</th>\n",
       "      <td>Denmark</td>\n",
       "      <td>2020-01-23</td>\n",
       "      <td>Deaths</td>\n",
       "      <td>0</td>\n",
       "      <td>5837213</td>\n",
       "    </tr>\n",
       "    <tr>\n",
       "      <th>4</th>\n",
       "      <td>Denmark</td>\n",
       "      <td>2020-01-24</td>\n",
       "      <td>Confirmed</td>\n",
       "      <td>0</td>\n",
       "      <td>5837213</td>\n",
       "    </tr>\n",
       "  </tbody>\n",
       "</table>\n",
       "</div>"
      ],
      "text/plain": [
       "   country        date       type  count  population\n",
       "0  Denmark  2020-01-22  Confirmed      0     5837213\n",
       "1  Denmark  2020-01-22     Deaths      0     5837213\n",
       "2  Denmark  2020-01-23  Confirmed      0     5837213\n",
       "3  Denmark  2020-01-23     Deaths      0     5837213\n",
       "4  Denmark  2020-01-24  Confirmed      0     5837213"
      ]
     },
     "execution_count": 145,
     "metadata": {},
     "output_type": "execute_result"
    }
   ],
   "source": [
    "sc = sc[[\"country\", \"date\", \"type\", \"count\", \"population\"]].copy()\n",
    "print(sc.shape)\n",
    "sc.head(5)"
   ]
  },
  {
   "cell_type": "markdown",
   "id": "5201fc8c",
   "metadata": {},
   "source": [
    "#### 2.3.a"
   ]
  },
  {
   "cell_type": "code",
   "execution_count": 146,
   "id": "2fddb184",
   "metadata": {},
   "outputs": [
    {
     "data": {
      "text/plain": [
       "country\n",
       "Denmark    1632\n",
       "Finland    1632\n",
       "Norway     1632\n",
       "Sweden     1632\n",
       "Name: count, dtype: int64"
      ]
     },
     "execution_count": 146,
     "metadata": {},
     "output_type": "execute_result"
    }
   ],
   "source": [
    "sc.country.value_counts()"
   ]
  },
  {
   "cell_type": "markdown",
   "id": "50b85550",
   "metadata": {},
   "source": [
    "They seems to be correctly labelled and no strange values."
   ]
  },
  {
   "cell_type": "markdown",
   "id": "76515217",
   "metadata": {},
   "source": [
    "#### 2.3.b"
   ]
  },
  {
   "cell_type": "code",
   "execution_count": 147,
   "id": "87220c6f",
   "metadata": {},
   "outputs": [
    {
     "name": "stdout",
     "output_type": "stream",
     "text": [
      "Max date:  2022-04-16\n",
      "Min date:  2020-01-22\n"
     ]
    }
   ],
   "source": [
    "print(\"Max date: \", sc.date.max())\n",
    "print(\"Min date: \", sc.date.min())"
   ]
  },
  {
   "cell_type": "markdown",
   "id": "7445d986",
   "metadata": {},
   "source": [
    "The results are realistic since covid starts from 2020 from description. The data ends at 2022 which is also reasonable as covid spread for roughly two years."
   ]
  },
  {
   "cell_type": "markdown",
   "id": "092938a8",
   "metadata": {},
   "source": [
    "#### 2.3.c"
   ]
  },
  {
   "cell_type": "code",
   "execution_count": 148,
   "id": "9c9757e9",
   "metadata": {},
   "outputs": [
    {
     "name": "stdout",
     "output_type": "stream",
     "text": [
      "Max Count:  3097015\n",
      "Min Count:  0\n"
     ]
    }
   ],
   "source": [
    "print(\"Max Count: \", sc[\"count\"].max())\n",
    "print(\"Min Count: \", sc[\"count\"].min())"
   ]
  },
  {
   "cell_type": "markdown",
   "id": "330ffa00",
   "metadata": {},
   "source": [
    "I would say it is reasonable since there should be somewhere that not affected by covid at the really beginning, which is 0 cases. Covid is also affecting tons of people so the max 3097015 is reasonable for large cities and such."
   ]
  },
  {
   "cell_type": "markdown",
   "id": "0d216c6a",
   "metadata": {},
   "source": [
    "That is maybe because .count is a built in method in python, so it would not be recognize as series or data frame."
   ]
  },
  {
   "cell_type": "code",
   "execution_count": 149,
   "id": "0ff11874",
   "metadata": {},
   "outputs": [
    {
     "data": {
      "text/html": [
       "<div>\n",
       "<style scoped>\n",
       "    .dataframe tbody tr th:only-of-type {\n",
       "        vertical-align: middle;\n",
       "    }\n",
       "\n",
       "    .dataframe tbody tr th {\n",
       "        vertical-align: top;\n",
       "    }\n",
       "\n",
       "    .dataframe thead th {\n",
       "        text-align: right;\n",
       "    }\n",
       "</style>\n",
       "<table border=\"1\" class=\"dataframe\">\n",
       "  <thead>\n",
       "    <tr style=\"text-align: right;\">\n",
       "      <th></th>\n",
       "      <th>country</th>\n",
       "      <th>date</th>\n",
       "      <th>type</th>\n",
       "      <th>count</th>\n",
       "      <th>population</th>\n",
       "    </tr>\n",
       "  </thead>\n",
       "  <tbody>\n",
       "    <tr>\n",
       "      <th>0</th>\n",
       "      <td>Denmark</td>\n",
       "      <td>2020-01-22</td>\n",
       "      <td>Confirmed</td>\n",
       "      <td>0</td>\n",
       "      <td>5837213</td>\n",
       "    </tr>\n",
       "    <tr>\n",
       "      <th>1</th>\n",
       "      <td>Denmark</td>\n",
       "      <td>2020-01-22</td>\n",
       "      <td>Deaths</td>\n",
       "      <td>0</td>\n",
       "      <td>5837213</td>\n",
       "    </tr>\n",
       "    <tr>\n",
       "      <th>2</th>\n",
       "      <td>Denmark</td>\n",
       "      <td>2020-01-23</td>\n",
       "      <td>Confirmed</td>\n",
       "      <td>0</td>\n",
       "      <td>5837213</td>\n",
       "    </tr>\n",
       "    <tr>\n",
       "      <th>3</th>\n",
       "      <td>Denmark</td>\n",
       "      <td>2020-01-23</td>\n",
       "      <td>Deaths</td>\n",
       "      <td>0</td>\n",
       "      <td>5837213</td>\n",
       "    </tr>\n",
       "    <tr>\n",
       "      <th>4</th>\n",
       "      <td>Denmark</td>\n",
       "      <td>2020-01-24</td>\n",
       "      <td>Confirmed</td>\n",
       "      <td>0</td>\n",
       "      <td>5837213</td>\n",
       "    </tr>\n",
       "    <tr>\n",
       "      <th>5</th>\n",
       "      <td>Denmark</td>\n",
       "      <td>2020-01-24</td>\n",
       "      <td>Deaths</td>\n",
       "      <td>0</td>\n",
       "      <td>5837213</td>\n",
       "    </tr>\n",
       "    <tr>\n",
       "      <th>6</th>\n",
       "      <td>Denmark</td>\n",
       "      <td>2020-01-25</td>\n",
       "      <td>Confirmed</td>\n",
       "      <td>0</td>\n",
       "      <td>5837213</td>\n",
       "    </tr>\n",
       "    <tr>\n",
       "      <th>7</th>\n",
       "      <td>Denmark</td>\n",
       "      <td>2020-01-25</td>\n",
       "      <td>Deaths</td>\n",
       "      <td>0</td>\n",
       "      <td>5837213</td>\n",
       "    </tr>\n",
       "    <tr>\n",
       "      <th>8</th>\n",
       "      <td>Denmark</td>\n",
       "      <td>2020-01-26</td>\n",
       "      <td>Confirmed</td>\n",
       "      <td>0</td>\n",
       "      <td>5837213</td>\n",
       "    </tr>\n",
       "    <tr>\n",
       "      <th>9</th>\n",
       "      <td>Denmark</td>\n",
       "      <td>2020-01-26</td>\n",
       "      <td>Deaths</td>\n",
       "      <td>0</td>\n",
       "      <td>5837213</td>\n",
       "    </tr>\n",
       "  </tbody>\n",
       "</table>\n",
       "</div>"
      ],
      "text/plain": [
       "   country        date       type  count  population\n",
       "0  Denmark  2020-01-22  Confirmed      0     5837213\n",
       "1  Denmark  2020-01-22     Deaths      0     5837213\n",
       "2  Denmark  2020-01-23  Confirmed      0     5837213\n",
       "3  Denmark  2020-01-23     Deaths      0     5837213\n",
       "4  Denmark  2020-01-24  Confirmed      0     5837213\n",
       "5  Denmark  2020-01-24     Deaths      0     5837213\n",
       "6  Denmark  2020-01-25  Confirmed      0     5837213\n",
       "7  Denmark  2020-01-25     Deaths      0     5837213\n",
       "8  Denmark  2020-01-26  Confirmed      0     5837213\n",
       "9  Denmark  2020-01-26     Deaths      0     5837213"
      ]
     },
     "execution_count": 149,
     "metadata": {},
     "output_type": "execute_result"
    }
   ],
   "source": [
    "sc.head(10)"
   ]
  },
  {
   "cell_type": "markdown",
   "id": "03e24c25",
   "metadata": {},
   "source": [
    "Each date, each country would have 2 rows, one confirmed covid case and death covid case. One row is either representing number of deaths or number of confirmed cases in a certain country in a certain date with population as reference. "
   ]
  },
  {
   "cell_type": "markdown",
   "id": "137aa7dc",
   "metadata": {},
   "source": [
    "### 3.1 "
   ]
  },
  {
   "cell_type": "markdown",
   "id": "4cdfb62a",
   "metadata": {},
   "source": [
    "I'm interested in the general idea of machine learning and I wish to explore more about different models here."
   ]
  },
  {
   "cell_type": "markdown",
   "id": "ff1a1146",
   "metadata": {},
   "source": [
    "### 3.2"
   ]
  },
  {
   "cell_type": "markdown",
   "id": "2ed397b2",
   "metadata": {},
   "source": [
    "I want to learn how and when to use different models and how to tune them for better performances. "
   ]
  },
  {
   "cell_type": "markdown",
   "id": "9caaeb9a",
   "metadata": {},
   "source": [
    "### 4.1"
   ]
  },
  {
   "cell_type": "code",
   "execution_count": 150,
   "id": "43435c9a",
   "metadata": {},
   "outputs": [
    {
     "data": {
      "text/html": [
       "<div>\n",
       "<style scoped>\n",
       "    .dataframe tbody tr th:only-of-type {\n",
       "        vertical-align: middle;\n",
       "    }\n",
       "\n",
       "    .dataframe tbody tr th {\n",
       "        vertical-align: top;\n",
       "    }\n",
       "\n",
       "    .dataframe thead th {\n",
       "        text-align: right;\n",
       "    }\n",
       "</style>\n",
       "<table border=\"1\" class=\"dataframe\">\n",
       "  <thead>\n",
       "    <tr style=\"text-align: right;\">\n",
       "      <th></th>\n",
       "      <th>country</th>\n",
       "      <th>date</th>\n",
       "      <th>type</th>\n",
       "      <th>count</th>\n",
       "      <th>population</th>\n",
       "    </tr>\n",
       "  </thead>\n",
       "  <tbody>\n",
       "    <tr>\n",
       "      <th>0</th>\n",
       "      <td>Denmark</td>\n",
       "      <td>2020-01-22</td>\n",
       "      <td>Confirmed</td>\n",
       "      <td>0</td>\n",
       "      <td>5837213</td>\n",
       "    </tr>\n",
       "    <tr>\n",
       "      <th>2</th>\n",
       "      <td>Denmark</td>\n",
       "      <td>2020-01-23</td>\n",
       "      <td>Confirmed</td>\n",
       "      <td>0</td>\n",
       "      <td>5837213</td>\n",
       "    </tr>\n",
       "    <tr>\n",
       "      <th>4</th>\n",
       "      <td>Denmark</td>\n",
       "      <td>2020-01-24</td>\n",
       "      <td>Confirmed</td>\n",
       "      <td>0</td>\n",
       "      <td>5837213</td>\n",
       "    </tr>\n",
       "    <tr>\n",
       "      <th>6</th>\n",
       "      <td>Denmark</td>\n",
       "      <td>2020-01-25</td>\n",
       "      <td>Confirmed</td>\n",
       "      <td>0</td>\n",
       "      <td>5837213</td>\n",
       "    </tr>\n",
       "    <tr>\n",
       "      <th>8</th>\n",
       "      <td>Denmark</td>\n",
       "      <td>2020-01-26</td>\n",
       "      <td>Confirmed</td>\n",
       "      <td>0</td>\n",
       "      <td>5837213</td>\n",
       "    </tr>\n",
       "  </tbody>\n",
       "</table>\n",
       "</div>"
      ],
      "text/plain": [
       "   country        date       type  count  population\n",
       "0  Denmark  2020-01-22  Confirmed      0     5837213\n",
       "2  Denmark  2020-01-23  Confirmed      0     5837213\n",
       "4  Denmark  2020-01-24  Confirmed      0     5837213\n",
       "6  Denmark  2020-01-25  Confirmed      0     5837213\n",
       "8  Denmark  2020-01-26  Confirmed      0     5837213"
      ]
     },
     "execution_count": 150,
     "metadata": {},
     "output_type": "execute_result"
    }
   ],
   "source": [
    "sc = sc[sc[\"type\"] == \"Confirmed\"]\n",
    "sc.head()"
   ]
  },
  {
   "cell_type": "markdown",
   "id": "ab821332",
   "metadata": {},
   "source": [
    "### 4.2"
   ]
  },
  {
   "cell_type": "code",
   "execution_count": 151,
   "id": "79218c09",
   "metadata": {},
   "outputs": [
    {
     "data": {
      "text/html": [
       "<div>\n",
       "<style scoped>\n",
       "    .dataframe tbody tr th:only-of-type {\n",
       "        vertical-align: middle;\n",
       "    }\n",
       "\n",
       "    .dataframe tbody tr th {\n",
       "        vertical-align: top;\n",
       "    }\n",
       "\n",
       "    .dataframe thead th {\n",
       "        text-align: right;\n",
       "    }\n",
       "</style>\n",
       "<table border=\"1\" class=\"dataframe\">\n",
       "  <thead>\n",
       "    <tr style=\"text-align: right;\">\n",
       "      <th></th>\n",
       "      <th>country</th>\n",
       "      <th>date</th>\n",
       "      <th>type</th>\n",
       "      <th>count</th>\n",
       "      <th>population</th>\n",
       "      <th>ccpc</th>\n",
       "    </tr>\n",
       "  </thead>\n",
       "  <tbody>\n",
       "    <tr>\n",
       "      <th>0</th>\n",
       "      <td>Denmark</td>\n",
       "      <td>2020-01-22</td>\n",
       "      <td>Confirmed</td>\n",
       "      <td>0</td>\n",
       "      <td>5837213</td>\n",
       "      <td>0.0</td>\n",
       "    </tr>\n",
       "    <tr>\n",
       "      <th>2</th>\n",
       "      <td>Denmark</td>\n",
       "      <td>2020-01-23</td>\n",
       "      <td>Confirmed</td>\n",
       "      <td>0</td>\n",
       "      <td>5837213</td>\n",
       "      <td>0.0</td>\n",
       "    </tr>\n",
       "    <tr>\n",
       "      <th>4</th>\n",
       "      <td>Denmark</td>\n",
       "      <td>2020-01-24</td>\n",
       "      <td>Confirmed</td>\n",
       "      <td>0</td>\n",
       "      <td>5837213</td>\n",
       "      <td>0.0</td>\n",
       "    </tr>\n",
       "    <tr>\n",
       "      <th>6</th>\n",
       "      <td>Denmark</td>\n",
       "      <td>2020-01-25</td>\n",
       "      <td>Confirmed</td>\n",
       "      <td>0</td>\n",
       "      <td>5837213</td>\n",
       "      <td>0.0</td>\n",
       "    </tr>\n",
       "    <tr>\n",
       "      <th>8</th>\n",
       "      <td>Denmark</td>\n",
       "      <td>2020-01-26</td>\n",
       "      <td>Confirmed</td>\n",
       "      <td>0</td>\n",
       "      <td>5837213</td>\n",
       "      <td>0.0</td>\n",
       "    </tr>\n",
       "  </tbody>\n",
       "</table>\n",
       "</div>"
      ],
      "text/plain": [
       "   country        date       type  count  population  ccpc\n",
       "0  Denmark  2020-01-22  Confirmed      0     5837213   0.0\n",
       "2  Denmark  2020-01-23  Confirmed      0     5837213   0.0\n",
       "4  Denmark  2020-01-24  Confirmed      0     5837213   0.0\n",
       "6  Denmark  2020-01-25  Confirmed      0     5837213   0.0\n",
       "8  Denmark  2020-01-26  Confirmed      0     5837213   0.0"
      ]
     },
     "execution_count": 151,
     "metadata": {},
     "output_type": "execute_result"
    }
   ],
   "source": [
    "sc[\"ccpc\"] = sc[\"count\"] / sc[\"population\"]\n",
    "sc.head()"
   ]
  },
  {
   "cell_type": "markdown",
   "id": "f3830998",
   "metadata": {},
   "source": [
    "### 4.3"
   ]
  },
  {
   "cell_type": "markdown",
   "id": "d7eb2152",
   "metadata": {},
   "source": [
    "I didn't get that warning."
   ]
  },
  {
   "cell_type": "markdown",
   "id": "cd26f873",
   "metadata": {},
   "source": [
    "### 4.4"
   ]
  },
  {
   "cell_type": "code",
   "execution_count": 152,
   "id": "6d05853d",
   "metadata": {},
   "outputs": [],
   "source": [
    "swedenCpc = sc[sc[\"country\"] == \"Sweden\"][[\"ccpc\"]]"
   ]
  },
  {
   "cell_type": "markdown",
   "id": "d4949d58",
   "metadata": {},
   "source": [
    "### 4.5"
   ]
  },
  {
   "cell_type": "code",
   "execution_count": 153,
   "id": "bd9f70b2",
   "metadata": {},
   "outputs": [
    {
     "data": {
      "text/plain": [
       "pandas.core.frame.DataFrame"
      ]
     },
     "execution_count": 153,
     "metadata": {},
     "output_type": "execute_result"
    }
   ],
   "source": [
    "type(swedenCpc)"
   ]
  },
  {
   "cell_type": "markdown",
   "id": "f3bef56d",
   "metadata": {},
   "source": [
    "### 4.6"
   ]
  },
  {
   "cell_type": "code",
   "execution_count": 154,
   "id": "7a810b62",
   "metadata": {},
   "outputs": [
    {
     "data": {
      "text/html": [
       "<div>\n",
       "<style scoped>\n",
       "    .dataframe tbody tr th:only-of-type {\n",
       "        vertical-align: middle;\n",
       "    }\n",
       "\n",
       "    .dataframe tbody tr th {\n",
       "        vertical-align: top;\n",
       "    }\n",
       "\n",
       "    .dataframe thead th {\n",
       "        text-align: right;\n",
       "    }\n",
       "</style>\n",
       "<table border=\"1\" class=\"dataframe\">\n",
       "  <thead>\n",
       "    <tr style=\"text-align: right;\">\n",
       "      <th></th>\n",
       "      <th>ccpc</th>\n",
       "    </tr>\n",
       "  </thead>\n",
       "  <tbody>\n",
       "    <tr>\n",
       "      <th>5422</th>\n",
       "      <td>9.486710e-03</td>\n",
       "    </tr>\n",
       "    <tr>\n",
       "      <th>5682</th>\n",
       "      <td>6.041966e-02</td>\n",
       "    </tr>\n",
       "    <tr>\n",
       "      <th>5776</th>\n",
       "      <td>8.045969e-02</td>\n",
       "    </tr>\n",
       "    <tr>\n",
       "      <th>4948</th>\n",
       "      <td>9.635971e-08</td>\n",
       "    </tr>\n",
       "    <tr>\n",
       "      <th>5314</th>\n",
       "      <td>7.898798e-03</td>\n",
       "    </tr>\n",
       "  </tbody>\n",
       "</table>\n",
       "</div>"
      ],
      "text/plain": [
       "              ccpc\n",
       "5422  9.486710e-03\n",
       "5682  6.041966e-02\n",
       "5776  8.045969e-02\n",
       "4948  9.635971e-08\n",
       "5314  7.898798e-03"
      ]
     },
     "execution_count": 154,
     "metadata": {},
     "output_type": "execute_result"
    }
   ],
   "source": [
    "swedenCpc.sample(5)"
   ]
  },
  {
   "cell_type": "markdown",
   "id": "8ddab8e2",
   "metadata": {},
   "source": [
    "### 4.7"
   ]
  },
  {
   "cell_type": "markdown",
   "id": "1955ef22",
   "metadata": {},
   "source": [
    "I saw the cases per capita I created on the right and some index on the left. While the index doesn't really make sence to me, is seems like the index generated by ```pd.read_csv```. A more meaningful index should give me some information about time at least."
   ]
  },
  {
   "cell_type": "markdown",
   "id": "4e1dfa86",
   "metadata": {},
   "source": [
    "### 4.8"
   ]
  },
  {
   "cell_type": "code",
   "execution_count": 155,
   "id": "f88d928c",
   "metadata": {},
   "outputs": [
    {
     "data": {
      "text/html": [
       "<div>\n",
       "<style scoped>\n",
       "    .dataframe tbody tr th:only-of-type {\n",
       "        vertical-align: middle;\n",
       "    }\n",
       "\n",
       "    .dataframe tbody tr th {\n",
       "        vertical-align: top;\n",
       "    }\n",
       "\n",
       "    .dataframe thead th {\n",
       "        text-align: right;\n",
       "    }\n",
       "</style>\n",
       "<table border=\"1\" class=\"dataframe\">\n",
       "  <thead>\n",
       "    <tr style=\"text-align: right;\">\n",
       "      <th></th>\n",
       "      <th>ccpc</th>\n",
       "    </tr>\n",
       "    <tr>\n",
       "      <th>date</th>\n",
       "      <th></th>\n",
       "    </tr>\n",
       "  </thead>\n",
       "  <tbody>\n",
       "    <tr>\n",
       "      <th>2020-11-23</th>\n",
       "      <td>0.020071</td>\n",
       "    </tr>\n",
       "    <tr>\n",
       "      <th>2021-08-01</th>\n",
       "      <td>0.106000</td>\n",
       "    </tr>\n",
       "    <tr>\n",
       "      <th>2020-06-17</th>\n",
       "      <td>0.005318</td>\n",
       "    </tr>\n",
       "    <tr>\n",
       "      <th>2022-02-27</th>\n",
       "      <td>0.235228</td>\n",
       "    </tr>\n",
       "    <tr>\n",
       "      <th>2021-02-16</th>\n",
       "      <td>0.059538</td>\n",
       "    </tr>\n",
       "  </tbody>\n",
       "</table>\n",
       "</div>"
      ],
      "text/plain": [
       "                ccpc\n",
       "date                \n",
       "2020-11-23  0.020071\n",
       "2021-08-01  0.106000\n",
       "2020-06-17  0.005318\n",
       "2022-02-27  0.235228\n",
       "2021-02-16  0.059538"
      ]
     },
     "execution_count": 155,
     "metadata": {},
     "output_type": "execute_result"
    }
   ],
   "source": [
    "swedenCpc1 = sc[sc[\"country\"] == \"Sweden\"].set_index(\"date\")[[\"ccpc\"]]\n",
    "swedenCpc1.sample(5)\n"
   ]
  }
 ],
 "metadata": {
  "kernelspec": {
   "display_name": "INFO371",
   "language": "python",
   "name": "python3"
  },
  "language_info": {
   "codemirror_mode": {
    "name": "ipython",
    "version": 3
   },
   "file_extension": ".py",
   "mimetype": "text/x-python",
   "name": "python",
   "nbconvert_exporter": "python",
   "pygments_lexer": "ipython3",
   "version": "3.11.9"
  }
 },
 "nbformat": 4,
 "nbformat_minor": 5
}
